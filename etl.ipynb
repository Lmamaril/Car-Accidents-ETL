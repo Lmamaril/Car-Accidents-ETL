{
 "cells": [
  {
   "cell_type": "markdown",
   "metadata": {},
   "source": [
    "# US Car Accidents Data Model\n",
    " *An ETL project that loads data of US Accidents, state demographics, holiday events into a Postgres database.*\n",
    "\n",
    "## ETL Processing"
   ]
  },
  {
   "cell_type": "code",
   "execution_count": 12,
   "metadata": {},
   "outputs": [],
   "source": [
    "import pandas as pd\n",
    "import requests"
   ]
  },
  {
   "cell_type": "code",
   "execution_count": 13,
   "metadata": {},
   "outputs": [],
   "source": [
    "%run create_database.py"
   ]
  },
  {
   "cell_type": "code",
   "execution_count": null,
   "metadata": {},
   "outputs": [],
   "source": [
    "%run etl.py"
   ]
  },
  {
   "cell_type": "markdown",
   "metadata": {},
   "source": [
    "### Load `accidents` data\n",
    "* Loading one row for the accidents table"
   ]
  },
  {
   "cell_type": "code",
   "execution_count": null,
   "metadata": {},
   "outputs": [],
   "source": []
  },
  {
   "cell_type": "code",
   "execution_count": 19,
   "metadata": {},
   "outputs": [
    {
     "name": "stdout",
     "output_type": "stream",
     "text": [
      "<class 'str'>\n"
     ]
    }
   ],
   "source": [
    "from create_database import connect_database\n",
    "from sql_queries import *\n",
    "#conn, cur = connect_database()\n",
    "\n",
    "df = pd.read_csv('./data/us_accidents.csv', nrows=1)\n",
    "for index, row in df.iterrows():\n",
    "    \"\"\"\n",
    "    accident_row = (row.ID, \n",
    "                row.Severity, \n",
    "                row.Start_Time, \n",
    "                row.End_Time, \n",
    "                row.Start_Lat, \n",
    "                row.Start_Lng, \n",
    "                row.Description, \n",
    "                row.City, \n",
    "                row.County, \n",
    "                row.State,\n",
    "                row.Weather_Timestamp, \n",
    "                row['Temperature(F)'], \n",
    "                row['Wind_Chill(F)'], \n",
    "                row['Humidity(%)'], \n",
    "                row['Pressure(in)'],\n",
    "                row['Visibility(mi)'], \n",
    "                row['Wind_Speed(mph)'],\n",
    "                row['Precipitation(in)'],\n",
    "                row.Weather_Condition, \n",
    "                row.Amenity, \n",
    "                row.Bump, \n",
    "                row.Crossing,\n",
    "                row.Give_Way, \n",
    "                row.Junction, \n",
    "                row.No_Exit, \n",
    "                row.Railway, \n",
    "                row.Roundabout, \n",
    "                row.Stop, \n",
    "                row.Traffic_Calming, \n",
    "                row.Traffic_Signal, \n",
    "                row.Turning_Loop,\n",
    "                row.Sunrise_Sunset,\n",
    "                row.Civil_Twilight,\n",
    "                row.Nautical_Twilight,\n",
    "                row.Astronomical_Twilight)\n",
    "    \"\"\"\n",
    "    #cur.execute(insert_accidents, accident_row)\n",
    "    \n",
    "    ts = row.Start_Time\n",
    "    #new_time = datetime.fromtimestamp(ts)\n",
    "    print(type(ts))\n",
    "    \n",
    "    \n",
    "#conn.close()"
   ]
  },
  {
   "cell_type": "code",
   "execution_count": null,
   "metadata": {},
   "outputs": [],
   "source": []
  },
  {
   "cell_type": "markdown",
   "metadata": {},
   "source": [
    "### Load `holidays` data"
   ]
  },
  {
   "cell_type": "code",
   "execution_count": 14,
   "metadata": {},
   "outputs": [
    {
     "name": "stdout",
     "output_type": "stream",
     "text": [
      "Index(['Unnamed: 0', 'Date', 'Holiday'], dtype='object')\n"
     ]
    },
    {
     "data": {
      "text/html": [
       "<div>\n",
       "<style scoped>\n",
       "    .dataframe tbody tr th:only-of-type {\n",
       "        vertical-align: middle;\n",
       "    }\n",
       "\n",
       "    .dataframe tbody tr th {\n",
       "        vertical-align: top;\n",
       "    }\n",
       "\n",
       "    .dataframe thead th {\n",
       "        text-align: right;\n",
       "    }\n",
       "</style>\n",
       "<table border=\"1\" class=\"dataframe\">\n",
       "  <thead>\n",
       "    <tr style=\"text-align: right;\">\n",
       "      <th></th>\n",
       "      <th>Unnamed: 0</th>\n",
       "      <th>Date</th>\n",
       "      <th>Holiday</th>\n",
       "    </tr>\n",
       "  </thead>\n",
       "  <tbody>\n",
       "    <tr>\n",
       "      <th>0</th>\n",
       "      <td>0</td>\n",
       "      <td>2010-12-31</td>\n",
       "      <td>New Year's Day</td>\n",
       "    </tr>\n",
       "    <tr>\n",
       "      <th>1</th>\n",
       "      <td>1</td>\n",
       "      <td>2011-01-17</td>\n",
       "      <td>Birthday of Martin Luther King, Jr.</td>\n",
       "    </tr>\n",
       "    <tr>\n",
       "      <th>2</th>\n",
       "      <td>2</td>\n",
       "      <td>2011-02-21</td>\n",
       "      <td>Washington's Birthday</td>\n",
       "    </tr>\n",
       "    <tr>\n",
       "      <th>3</th>\n",
       "      <td>3</td>\n",
       "      <td>2011-05-30</td>\n",
       "      <td>Memorial Day</td>\n",
       "    </tr>\n",
       "    <tr>\n",
       "      <th>4</th>\n",
       "      <td>4</td>\n",
       "      <td>2011-07-04</td>\n",
       "      <td>Independence Day</td>\n",
       "    </tr>\n",
       "  </tbody>\n",
       "</table>\n",
       "</div>"
      ],
      "text/plain": [
       "   Unnamed: 0        Date                              Holiday\n",
       "0           0  2010-12-31                       New Year's Day\n",
       "1           1  2011-01-17  Birthday of Martin Luther King, Jr.\n",
       "2           2  2011-02-21                Washington's Birthday\n",
       "3           3  2011-05-30                         Memorial Day\n",
       "4           4  2011-07-04                     Independence Day"
      ]
     },
     "execution_count": 14,
     "metadata": {},
     "output_type": "execute_result"
    }
   ],
   "source": [
    "holidays_df = pd.read_csv('./data/usholidays.csv')\n",
    "print(holidays_df.columns)\n",
    "\n",
    "holidays_df.head()"
   ]
  },
  {
   "cell_type": "code",
   "execution_count": 11,
   "metadata": {},
   "outputs": [],
   "source": [
    "from create_database import connect_database\n",
    "from sql_queries import *\n",
    "\n",
    "conn, cur = connect_database()\n",
    "\n",
    "ranking_df = pd.read_csv('./data/state_road_ratings.csv',delimiter=',',nrows=3)\n",
    "ranking_df.columns = ['overall_rank','year','state','commute_time', 'public_transit','road_quality','bridge_quality']\n",
    "for index, row in ranking_df.iterrows():\n",
    "    row_rank = (row.overall_rank, row.year, row.state, row.commute_time, row.public_transit, row.road_quality, row.bridge_quality)\n",
    "    cur.execute(insert_road_rank, row_rank)\n",
    "conn.close()"
   ]
  },
  {
   "cell_type": "code",
   "execution_count": null,
   "metadata": {},
   "outputs": [],
   "source": []
  }
 ],
 "metadata": {
  "kernelspec": {
   "display_name": "Python 3",
   "language": "python",
   "name": "python3"
  },
  "language_info": {
   "codemirror_mode": {
    "name": "ipython",
    "version": 3
   },
   "file_extension": ".py",
   "mimetype": "text/x-python",
   "name": "python",
   "nbconvert_exporter": "python",
   "pygments_lexer": "ipython3",
   "version": "3.8.2"
  }
 },
 "nbformat": 4,
 "nbformat_minor": 4
}
