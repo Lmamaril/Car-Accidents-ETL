{
 "cells": [
  {
   "cell_type": "markdown",
   "metadata": {},
   "source": [
    "# ETL Processing Helper\n",
    " *An ETL project helper that loads data of US Accidents, road rankings, holiday events into a Postgres database in pieces.*\n",
    " \n",
    "\n"
   ]
  },
  {
   "cell_type": "code",
   "execution_count": 1,
   "metadata": {},
   "outputs": [],
   "source": [
    "import pandas as pd\n",
    "import requests"
   ]
  },
  {
   "cell_type": "markdown",
   "metadata": {},
   "source": [
    "### Runs external CREATE statements and ETL"
   ]
  },
  {
   "cell_type": "code",
   "execution_count": 2,
   "metadata": {
    "scrolled": true
   },
   "outputs": [
    {
     "name": "stdout",
     "output_type": "stream",
     "text": [
      "ETL starting...\n",
      "ETL Finished in 256.49986958503723 secs\n"
     ]
    }
   ],
   "source": [
    "%run create_database.py\n",
    "%run etl.py"
   ]
  },
  {
   "cell_type": "markdown",
   "metadata": {},
   "source": [
    "### Load `accidents` data\n",
    "* First viewing one row for the accidents table\n",
    "* Look at the weather_timestamp variable\n",
    "* Perform one row test run for the accidents table"
   ]
  },
  {
   "cell_type": "code",
   "execution_count": 8,
   "metadata": {},
   "outputs": [
    {
     "name": "stdout",
     "output_type": "stream",
     "text": [
      "<bound method DataFrame.info of        Source    TMC  Severity           Start_Time             End_Time  \\\n",
      "ID                                                                         \n",
      "A-1  MapQuest  201.0         3  2016-02-08 05:46:00  2016-02-08 11:00:00   \n",
      "\n",
      "     Start_Lat  Start_Lng  End_Lat  End_Lng  Distance(mi)  ... Roundabout  \\\n",
      "ID                                                         ...              \n",
      "A-1  39.865147 -84.058723      NaN      NaN          0.01  ...      False   \n",
      "\n",
      "     Station   Stop Traffic_Calming Traffic_Signal Turning_Loop  \\\n",
      "ID                                                                \n",
      "A-1    False  False           False          False        False   \n",
      "\n",
      "    Sunrise_Sunset  Civil_Twilight Nautical_Twilight Astronomical_Twilight  \n",
      "ID                                                                          \n",
      "A-1          Night           Night             Night                 Night  \n",
      "\n",
      "[1 rows x 48 columns]>\n"
     ]
    }
   ],
   "source": [
    "df = pd.read_csv('./data/us_accidents.csv', index_col='ID', nrows=1)\n",
    "#print(df)\n",
    "print(df.info)"
   ]
  },
  {
   "cell_type": "markdown",
   "metadata": {},
   "source": [
    "**Looking at the format of the Weather_Timestamp**"
   ]
  },
  {
   "cell_type": "code",
   "execution_count": 7,
   "metadata": {},
   "outputs": [
    {
     "name": "stdout",
     "output_type": "stream",
     "text": [
      "2016-02-08 05:58:00\n",
      "2016-02-08 05:51:00\n",
      "2016-02-08 06:56:00\n",
      "2016-02-08 07:38:00\n",
      "2016-02-08 07:53:00\n"
     ]
    }
   ],
   "source": [
    "df2 = pd.read_csv('./data/us_accidents.csv', nrows=5)\n",
    "for idx, r in df2.iterrows():\n",
    "    print(r['Weather_Timestamp'])"
   ]
  },
  {
   "cell_type": "markdown",
   "metadata": {},
   "source": [
    "### Load `accidents` data"
   ]
  },
  {
   "cell_type": "code",
   "execution_count": 25,
   "metadata": {},
   "outputs": [
    {
     "name": "stdout",
     "output_type": "stream",
     "text": [
      "ETL Finished in 1.9375932216644287 secs\n"
     ]
    }
   ],
   "source": [
    "from create_database import connect_database\n",
    "from sql_queries import *\n",
    "import time\n",
    "\n",
    "start_time = time.time()\n",
    "conn, cur = connect_database()\n",
    "\n",
    "df = pd.read_csv('./data/us_accidents.csv', nrows=1000)\n",
    "for index, row in df.iterrows():\n",
    "    \n",
    "    # Handle null Weather_Timestamp\n",
    "    weather_ts = pd.to_datetime(row.Weather_Timestamp)\n",
    "    if pd.isnull(weather_ts):\n",
    "        weather_ts = None      \n",
    "    \n",
    "    accident_row = (row.ID, \n",
    "                row.Severity, \n",
    "                row.Start_Time, \n",
    "                row.End_Time, \n",
    "                row.Start_Lat, \n",
    "                row.Start_Lng, \n",
    "                row.Description, \n",
    "                row.City, \n",
    "                row.County, \n",
    "                row.State,\n",
    "                weather_ts, \n",
    "                row['Temperature(F)'], \n",
    "                row['Wind_Chill(F)'], \n",
    "                row['Humidity(%)'], \n",
    "                row['Pressure(in)'],\n",
    "                row['Visibility(mi)'], \n",
    "                row['Wind_Speed(mph)'],\n",
    "                row['Precipitation(in)'],\n",
    "                row.Weather_Condition, \n",
    "                row.Amenity, \n",
    "                row.Bump, \n",
    "                row.Crossing,\n",
    "                row.Give_Way, \n",
    "                row.Junction, \n",
    "                row.No_Exit, \n",
    "                row.Railway, \n",
    "                row.Roundabout, \n",
    "                row.Stop, \n",
    "                row.Traffic_Calming, \n",
    "                row.Traffic_Signal, \n",
    "                row.Turning_Loop,\n",
    "                row.Sunrise_Sunset,\n",
    "                row.Civil_Twilight,\n",
    "                row.Nautical_Twilight,\n",
    "                row.Astronomical_Twilight)\n",
    "    \n",
    "    cur.execute(insert_accidents, accident_row)   \n",
    "    \n",
    "conn.close()\n",
    "\n",
    "time_delta = str(time.time() - start_time)\n",
    "print('ETL Finished in {} secs'.format(time_delta) )"
   ]
  },
  {
   "cell_type": "code",
   "execution_count": 19,
   "metadata": {},
   "outputs": [
    {
     "name": "stdout",
     "output_type": "stream",
     "text": [
      "ETL Finished in 0.10784792900085449 secs\n"
     ]
    }
   ],
   "source": [
    "# Version 2 of loading the accidents table\n",
    "# Only use subset of original csv\n",
    "\n",
    "import time\n",
    "from create_database import connect_database\n",
    "from sql_queries import *\n",
    "\n",
    "start_time = time.time()\n",
    "conn, cur = connect_database()\n",
    "\n",
    "df = pd.read_csv('./data/us_accidents.csv', nrows=1000)\n",
    "ndf = df[['ID', 'Severity','Start_Time', 'End_Time', 'Start_Lat', \n",
    "         'Start_Lng', 'Description','City', 'County', 'State', 'Weather_Timestamp', \n",
    "           'Temperature(F)', 'Wind_Chill(F)', 'Humidity(%)', \n",
    "           'Pressure(in)', 'Visibility(mi)', 'Wind_Speed(mph)',\n",
    "            'Precipitation(in)', 'Weather_Condition', 'Amenity', \n",
    "            'Bump', 'Crossing', 'Give_Way', 'Junction', \n",
    "            'No_Exit', 'Railway', 'Roundabout', 'Stop', \n",
    "            'Traffic_Calming', 'Traffic_Signal', 'Turning_Loop','Sunrise_Sunset',\n",
    "            'Civil_Twilight', 'Nautical_Twilight', 'Astronomical_Twilight']]\n",
    "\n",
    "tmp_file = 'file.csv'\n",
    "ndf.to_csv(tmp_file, index=False, header=False)\n",
    "\n",
    "file = open(tmp_file, 'r')\n",
    "cur.copy_from(file, \"accidents\", sep=\",\", null=\"\")\n",
    "conn.close()\n",
    "\n",
    "time_delta = str(time.time() - start_time)\n",
    "print('ETL Finished in {} secs'.format(time_delta) )"
   ]
  },
  {
   "cell_type": "markdown",
   "metadata": {},
   "source": [
    "### Load `time` data\n",
    "* Loading one row for the time table"
   ]
  },
  {
   "cell_type": "code",
   "execution_count": 17,
   "metadata": {},
   "outputs": [
    {
     "name": "stdout",
     "output_type": "stream",
     "text": [
      "Time row:  (Timestamp('2016-02-08 05:46:00'), datetime.date(2016, 2, 8), 5, 8, 2, 2016, 0)\n",
      "<class 'pandas._libs.tslibs.timestamps.Timestamp'>\n"
     ]
    }
   ],
   "source": [
    "from create_database import connect_database\n",
    "from sql_queries import *\n",
    "import datetime\n",
    "conn, cur = connect_database()\n",
    "\n",
    "df = pd.read_csv('./data/us_accidents.csv', nrows=1)\n",
    "for index, row in df.iterrows():\n",
    "    dt = pd.to_datetime(row.Start_Time)\n",
    "    time_row = (dt,datetime.date(dt.year, dt.month, dt.day), dt.hour,dt.day, dt.month, dt.year, dt.weekday())\n",
    "    print(\"Time row: \", time_row)\n",
    "    print(type(time_row[0]))\n",
    "    cur.execute(insert_time, time_row)\n",
    "conn.close()\n",
    "    "
   ]
  },
  {
   "cell_type": "markdown",
   "metadata": {},
   "source": [
    "### Load `holidays` data\n",
    "\n",
    "* View the holidays data"
   ]
  },
  {
   "cell_type": "code",
   "execution_count": 14,
   "metadata": {},
   "outputs": [
    {
     "name": "stdout",
     "output_type": "stream",
     "text": [
      "Index(['Unnamed: 0', 'Date', 'Holiday'], dtype='object')\n"
     ]
    },
    {
     "data": {
      "text/html": [
       "<div>\n",
       "<style scoped>\n",
       "    .dataframe tbody tr th:only-of-type {\n",
       "        vertical-align: middle;\n",
       "    }\n",
       "\n",
       "    .dataframe tbody tr th {\n",
       "        vertical-align: top;\n",
       "    }\n",
       "\n",
       "    .dataframe thead th {\n",
       "        text-align: right;\n",
       "    }\n",
       "</style>\n",
       "<table border=\"1\" class=\"dataframe\">\n",
       "  <thead>\n",
       "    <tr style=\"text-align: right;\">\n",
       "      <th></th>\n",
       "      <th>Unnamed: 0</th>\n",
       "      <th>Date</th>\n",
       "      <th>Holiday</th>\n",
       "    </tr>\n",
       "  </thead>\n",
       "  <tbody>\n",
       "    <tr>\n",
       "      <th>0</th>\n",
       "      <td>0</td>\n",
       "      <td>2010-12-31</td>\n",
       "      <td>New Year's Day</td>\n",
       "    </tr>\n",
       "    <tr>\n",
       "      <th>1</th>\n",
       "      <td>1</td>\n",
       "      <td>2011-01-17</td>\n",
       "      <td>Birthday of Martin Luther King, Jr.</td>\n",
       "    </tr>\n",
       "    <tr>\n",
       "      <th>2</th>\n",
       "      <td>2</td>\n",
       "      <td>2011-02-21</td>\n",
       "      <td>Washington's Birthday</td>\n",
       "    </tr>\n",
       "    <tr>\n",
       "      <th>3</th>\n",
       "      <td>3</td>\n",
       "      <td>2011-05-30</td>\n",
       "      <td>Memorial Day</td>\n",
       "    </tr>\n",
       "    <tr>\n",
       "      <th>4</th>\n",
       "      <td>4</td>\n",
       "      <td>2011-07-04</td>\n",
       "      <td>Independence Day</td>\n",
       "    </tr>\n",
       "  </tbody>\n",
       "</table>\n",
       "</div>"
      ],
      "text/plain": [
       "   Unnamed: 0        Date                              Holiday\n",
       "0           0  2010-12-31                       New Year's Day\n",
       "1           1  2011-01-17  Birthday of Martin Luther King, Jr.\n",
       "2           2  2011-02-21                Washington's Birthday\n",
       "3           3  2011-05-30                         Memorial Day\n",
       "4           4  2011-07-04                     Independence Day"
      ]
     },
     "execution_count": 14,
     "metadata": {},
     "output_type": "execute_result"
    }
   ],
   "source": [
    "holidays_df = pd.read_csv('./data/usholidays.csv')\n",
    "print(holidays_df.columns)\n",
    "\n",
    "holidays_df.head()"
   ]
  },
  {
   "cell_type": "markdown",
   "metadata": {},
   "source": [
    "### Load `roadRankings` data\n",
    "\n",
    "* Perform one `INSERT` into the roadRankings Table "
   ]
  },
  {
   "cell_type": "code",
   "execution_count": 4,
   "metadata": {},
   "outputs": [],
   "source": [
    "from create_database import connect_database\n",
    "from sql_queries import *\n",
    "\n",
    "conn, cur = connect_database()\n",
    "\n",
    "ranking_df = pd.read_csv('./data/state_road_ratings.csv',delimiter=',',nrows=3)\n",
    "ranking_df.columns = ['overall_rank','year','state','commute_time', 'public_transit','road_quality','bridge_quality']\n",
    "for index, row in ranking_df.iterrows():\n",
    "    row_rank = (row.overall_rank, row.year, row.state, row.commute_time, row.public_transit, row.road_quality, row.bridge_quality)\n",
    "    cur.execute(insert_road_rank, row_rank)\n",
    "conn.close()"
   ]
  },
  {
   "cell_type": "markdown",
   "metadata": {},
   "source": [
    "### Load `accidentsAnalysis` data\n"
   ]
  },
  {
   "cell_type": "code",
   "execution_count": 4,
   "metadata": {},
   "outputs": [],
   "source": [
    "import datetime\n",
    "from create_database import connect_database\n",
    "from sql_queries import *\n",
    "conn, cur = connect_database()\n",
    "\n",
    "# read the acciedents csv\n",
    "df = pd.read_csv('./data/us_accidents.csv', nrows=1)\n",
    "\n",
    "def retrieve_row_match(cur, select_statement, match):\n",
    "    \"\"\" retrieves first column of the select statement, \n",
    "        otherwise, returns None\n",
    "    \"\"\"\n",
    "    cur.execute(select_statement, match)\n",
    "    result = cur.fetchone()\n",
    "    return result[0] if result else None\n",
    "    \n",
    "for index, row in df.iterrows():\n",
    "    \n",
    "    # retrieve the matching holiday id if exists \n",
    "    dt = pd.to_datetime(row.Start_Time)\n",
    "    dt_date = (datetime.date(dt.year, dt.month, dt.day),)\n",
    "    holiday_id = retrieve_row_match(cur, select_holiday, dt_date)\n",
    "\n",
    "    # retrieve year and state to match the road ranking id\n",
    "    ranking_match = (dt.year, row.State)\n",
    "    ranking_id = retrieve_row_match(cur, select_rank, ranking_match)\n",
    "    \n",
    "    analysis_row = (row.ID, dt, row.State, holiday_id, ranking_id)\n",
    "    cur.execute(insert_analysis, analysis_row)\n",
    "conn.close()        "
   ]
  }
 ],
 "metadata": {
  "kernelspec": {
   "display_name": "Python 3",
   "language": "python",
   "name": "python3"
  },
  "language_info": {
   "codemirror_mode": {
    "name": "ipython",
    "version": 3
   },
   "file_extension": ".py",
   "mimetype": "text/x-python",
   "name": "python",
   "nbconvert_exporter": "python",
   "pygments_lexer": "ipython3",
   "version": "3.8.2"
  }
 },
 "nbformat": 4,
 "nbformat_minor": 4
}
