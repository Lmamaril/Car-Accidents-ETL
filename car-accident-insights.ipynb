{
 "cells": [
  {
   "cell_type": "markdown",
   "metadata": {},
   "source": [
    "# Car Accident Analysis\n",
    "\n",
    "Several question asked to gain insights about car accidents in the US."
   ]
  },
  {
   "cell_type": "markdown",
   "metadata": {},
   "source": [
    "**Compare accidents per state. Which most frequently have accidents within the most recent year?**"
   ]
  },
  {
   "cell_type": "code",
   "execution_count": 1,
   "metadata": {},
   "outputs": [],
   "source": [
    "# create the SQL query\n",
    "from db_modules.db_connection import *\n",
    "\n",
    "#conn, cur = connect_database()\n",
    "\n",
    "query = \"\"\"\n",
    "    SELECT state, count(accident_id) from accidentsAnalysis \n",
    "    JOIN time ON accidentsAnalysis.time = time.ev_time \n",
    "    GROUP BY state;\n",
    "\"\"\"\n",
    "#result = cur.execute(query)\n",
    "#data = result.fetchone()\n",
    "#print(data)\n",
    "#conn.close()"
   ]
  },
  {
   "cell_type": "code",
   "execution_count": null,
   "metadata": {},
   "outputs": [],
   "source": []
  },
  {
   "cell_type": "code",
   "execution_count": null,
   "metadata": {},
   "outputs": [],
   "source": []
  }
 ],
 "metadata": {
  "kernelspec": {
   "display_name": "Python 3",
   "language": "python",
   "name": "python3"
  },
  "language_info": {
   "codemirror_mode": {
    "name": "ipython",
    "version": 3
   },
   "file_extension": ".py",
   "mimetype": "text/x-python",
   "name": "python",
   "nbconvert_exporter": "python",
   "pygments_lexer": "ipython3",
   "version": "3.8.2"
  }
 },
 "nbformat": 4,
 "nbformat_minor": 4
}
