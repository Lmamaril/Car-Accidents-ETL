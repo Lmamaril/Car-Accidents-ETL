{
 "cells": [
  {
   "cell_type": "markdown",
   "metadata": {},
   "source": [
    "# Car Accident Analysis\n",
    "\n",
    "Several question asked to gain insights about car accidents in the US."
   ]
  },
  {
   "cell_type": "markdown",
   "metadata": {},
   "source": [
    "**What are the total number of accidents across each state?**"
   ]
  },
  {
   "cell_type": "code",
   "execution_count": null,
   "metadata": {},
   "outputs": [],
   "source": [
    "query = \"\"\"\n",
    "    SELECT SUM(accident_id) FROM accidents GROUP BY state;\n",
    "    \"\"\""
   ]
  },
  {
   "cell_type": "markdown",
   "metadata": {},
   "source": [
    "**Compare accidents per state. Which states most frequently have accidents within the most recent year?**"
   ]
  },
  {
   "cell_type": "code",
   "execution_count": 1,
   "metadata": {},
   "outputs": [],
   "source": [
    "# create the SQL query\n",
    "from db_modules.db_connection import *\n",
    "\n",
    "#conn, cur = connect_database()\n",
    "\n",
    "query = \"\"\"\n",
    "    SELECT state, count(accident_id) from accidentsAnalysis \n",
    "    JOIN time ON accidentsAnalysis.time = time.ev_time \n",
    "    GROUP BY state;\n",
    "\"\"\"\n",
    "#result = cur.execute(query)\n",
    "#data = result.fetchone()\n",
    "#print(data)\n",
    "#conn.close()"
   ]
  },
  {
   "cell_type": "markdown",
   "metadata": {},
   "source": [
    "**What is the average measurement of the following factor associated with car accidents?**\n",
    "\n",
    "* wind\n",
    "* visibility\n",
    "* humidity\n",
    "* pressure\n",
    "\n",
    "**What do these measurements look comparing across states?**"
   ]
  },
  {
   "cell_type": "code",
   "execution_count": null,
   "metadata": {},
   "outputs": [],
   "source": [
    "features = [\"wind_speed\", \"visibility\", \"humidity\", \"pressure\"]\n",
    "\n",
    "for feature in features:\n",
    "    query = \"\"\"\n",
    "        SELECT AVG({})\n",
    "        FROM accidents\n",
    "        \"\"\".format(feature)\n",
    "\n",
    "    for feature in features:\n",
    "        query = \"SELECT AVG({}) FROM accidents GROUP BY state\".format(feature)   \n",
    "    "
   ]
  },
  {
   "cell_type": "markdown",
   "metadata": {},
   "source": [
    "**Under which of the following conditions present are car accidents most severe?**\n",
    "\n",
    "* bump \n",
    "* crossing\n",
    "* giveway\n",
    "* junction\n",
    "* no_exit\n",
    "* railway\n",
    "* roundabout\n",
    "* stop \n",
    "* traffic_calming\n",
    "* traffic_signal \n",
    "* turning_loop"
   ]
  },
  {
   "cell_type": "code",
   "execution_count": null,
   "metadata": {},
   "outputs": [],
   "source": [
    "features = [bump, crossing, giveway, junction, \n",
    "            no_exit, railway, roundabout, stop, \n",
    "            traffic_calming, traffic_signal, turning_loop]\n",
    "query = \"\"\"\n",
    "    SELECT AVG(severity) FROM accidents\n",
    "    WHERE {}=True\n",
    "\"\"\""
   ]
  },
  {
   "cell_type": "markdown",
   "metadata": {},
   "source": [
    "**Show the number of accidents that occur given a one day buffer before and after a holiday**\n",
    "\n"
   ]
  },
  {
   "cell_type": "markdown",
   "metadata": {},
   "source": [
    "**Is severity of a car accident correlated with other factors within the dataset?**"
   ]
  }
 ],
 "metadata": {
  "kernelspec": {
   "display_name": "Python 3",
   "language": "python",
   "name": "python3"
  },
  "language_info": {
   "codemirror_mode": {
    "name": "ipython",
    "version": 3
   },
   "file_extension": ".py",
   "mimetype": "text/x-python",
   "name": "python",
   "nbconvert_exporter": "python",
   "pygments_lexer": "ipython3",
   "version": "3.8.2"
  }
 },
 "nbformat": 4,
 "nbformat_minor": 4
}
